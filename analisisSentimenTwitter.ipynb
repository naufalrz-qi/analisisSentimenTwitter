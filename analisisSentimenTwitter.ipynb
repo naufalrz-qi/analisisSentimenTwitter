{
 "cells": [
  {
   "cell_type": "code",
   "execution_count": null,
   "metadata": {},
   "outputs": [],
   "source": [
    "import tweepy\n",
    "\n",
    "# Masukkan kunci API Twitter Anda di sini\n",
    "API_KEY = 'your_api_key'\n",
    "API_SECRET_KEY = 'your_api_secret_key'\n",
    "ACCESS_TOKEN = 'your_access_token'\n",
    "ACCESS_TOKEN_SECRET = 'your_access_token_secret'\n",
    "\n",
    "# Mengautentikasi ke API Twitter\n",
    "auth = tweepy.OAuth1UserHandler(API_KEY, API_SECRET_KEY, ACCESS_TOKEN, ACCESS_TOKEN_SECRET)\n",
    "api = tweepy.API(auth)\n",
    "\n",
    "# Mengambil tweet\n",
    "query = \"#yourhashtag\"\n",
    "tweets = tweepy.Cursor(api.search_tweets, q=query, lang=\"id\", tweet_mode=\"extended\").items(100)\n",
    "\n",
    "# Menyimpan tweet dalam list\n",
    "tweets_list = [[tweet.created_at, tweet.user.screen_name, tweet.full_text] for tweet in tweets]\n",
    "\n",
    "# Menyimpan data dalam DataFrame\n",
    "import pandas as pd\n",
    "tweets_df = pd.DataFrame(tweets_list, columns=[\"datetime\", \"username\", \"text\"])\n",
    "tweets_df.to_csv('tweets.csv', index=False)\n"
   ]
  }
 ],
 "metadata": {
  "language_info": {
   "name": "python"
  }
 },
 "nbformat": 4,
 "nbformat_minor": 2
}
